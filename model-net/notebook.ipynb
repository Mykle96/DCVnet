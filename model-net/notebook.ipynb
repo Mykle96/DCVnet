{
 "cells": [
  {
   "cell_type": "code",
   "execution_count": 1,
   "metadata": {},
   "outputs": [],
   "source": [
    "from PIL import Image\n",
    "import numpy as np\n",
    "import matplotlib.pyplot as plt\n",
    "import cv2\n",
    "import data \n",
    "import pose\n",
    "import models\n",
    "import math"
   ]
  },
  {
   "cell_type": "code",
   "execution_count": 2,
   "metadata": {},
   "outputs": [],
   "source": [
    "points_3D = np.array([\n",
    "\n",
    "\t\t(0, 0, 0), #fbl\n",
    "        (0, 0, -3), #fbr\n",
    "        (0, 3, 0),  #ftl\n",
    "        (0, 3, -3), #ftr\n",
    "        (9, 0, 0), #bbl\n",
    "        (9, 0, -3), #bbr\n",
    "        (9, 3, 0), #btl\n",
    "        (9 , 3, -3), #btr\n",
    "        (4.5,1.5,-1.5) #Center \n",
    "                     ])"
   ]
  },
  {
   "cell_type": "code",
   "execution_count": 3,
   "metadata": {},
   "outputs": [
    {
     "name": "stdout",
     "output_type": "stream",
     "text": [
      "[['8_img.png', '8_id.png', '8.txt'], ['6_img.png', '6_id.png', '6.txt'], ['2_img.png', '2_id.png', '2.txt'], ['4_img.png', '4_id.png', '4.txt'], ['0_img.png', '0_id.png', '0.txt'], ['9_img.png', '9_id.png', '9.txt'], ['5_img.png', '5_id.png', '5.txt'], ['7_img.png', '7_id.png', '7.txt']]\n",
      "['8_img.png', '8_id.png', '8.txt']\n"
     ]
    }
   ],
   "source": [
    "dataset = data.coordsTrainingGenerator(2)\n",
    "tmp = next(dataset)"
   ]
  },
  {
   "cell_type": "code",
   "execution_count": 4,
   "metadata": {},
   "outputs": [
    {
     "name": "stdout",
     "output_type": "stream",
     "text": [
      "['6_img.png', '6_id.png', '6.txt']\n"
     ]
    }
   ],
   "source": [
    "tmp = next(dataset)"
   ]
  },
  {
   "cell_type": "code",
   "execution_count": 5,
   "metadata": {},
   "outputs": [],
   "source": [
    "img_num = 6\n",
    "basePath = '../../unity/My project/dataset/train/'\n",
    "mask = data.filePathToArray(basePath +str(img_num) + '_id.png', 600, 600)\n",
    "for k in range(mask.shape[0]):\n",
    "\t\t\t\tfor j in range(mask.shape[1]):\n",
    "\n",
    "\t\t\t\t\tif (mask[k][j]==np.array([0,0,0])).all():\n",
    "\t\t\t\t\t\tcontinue\n",
    "\t\t\t\t\telse:\n",
    "\t\t\t\t\t\tmask[k][j] = np.array([255,255,255])\n"
   ]
  },
  {
   "cell_type": "code",
   "execution_count": null,
   "metadata": {},
   "outputs": [],
   "source": [
    "plt.imshow(tmp[0][0])\n",
    "plt.imshow(mask)"
   ]
  },
  {
   "cell_type": "code",
   "execution_count": 6,
   "metadata": {},
   "outputs": [
    {
     "name": "stdout",
     "output_type": "stream",
     "text": [
      "før\n",
      "etter\n"
     ]
    }
   ],
   "source": [
    "#tmp er bilde og vektorfelt \n",
    "import random\n",
    "population = np.where(mask > 0.99)[:2]\n",
    "population = list(zip(population[0], population[1])) # y, x format\n",
    "p1 = population.pop(random.randrange(len(population)))\n",
    "print(\"før\")\n",
    "votes = data.ransacVoting(population,tmp[1][0])\n",
    "print(\"etter\")\n",
    "mean = data.getMean(votes)\n",
    "preds = data.dictToArray(mean)\n",
    "\n",
    "matrix = np.array([[833.3333333, 0., 300], [0., 1250, 300], [0., 0., 1.]])\n",
    "method = cv2.SOLVEPNP_ITERATIVE\n",
    "\n",
    "_, R_exp, tVec = cv2.solvePnP(points_3D,\n",
    "\t\t\t\t\t\t\t\tpreds,\n",
    "\t\t\t\t\t\t\t\tmatrix,\n",
    "\t\t\t\t\t\t\t\tnp.zeros(shape=[8, 1], dtype='float64'),\n",
    "\t\t\t\t\t\t\t\tflags=method)\n",
    "\n",
    "R_exp = np.squeeze(R_exp)\n",
    "tVec = np.squeeze(tVec)"
   ]
  },
  {
   "cell_type": "code",
   "execution_count": 7,
   "metadata": {},
   "outputs": [
    {
     "name": "stdout",
     "output_type": "stream",
     "text": [
      "Image number: 6\n",
      "Rotation vector: [-0.12710367  0.27789779  0.10878306]\n",
      "Translation vector: [-7.99522662 -2.940458   64.93274268]\n"
     ]
    }
   ],
   "source": [
    "#Er dette kamerakoordinater eller koordinatsystemet definert ved punktene points_3D? \n",
    "#Må jo være kamerakoordinater? \n",
    "print(f'Image number: {img_num}')\n",
    "print(f'Rotation vector: {R_exp}')\n",
    "print(f'Translation vector: {tVec}')"
   ]
  },
  {
   "cell_type": "code",
   "execution_count": null,
   "metadata": {},
   "outputs": [],
   "source": [
    "from scipy.spatial.transform import Rotation as R"
   ]
  },
  {
   "cell_type": "code",
   "execution_count": null,
   "metadata": {},
   "outputs": [],
   "source": [
    "camera_rotation = np.array([0.1868, 0.2304, -0.02209562, 0.954718])\n",
    "r2 = R.from_quat(camera_rotation)\n",
    "\n",
    "#radianer\n",
    "r_matrix = cv2.Rodrigues(R_exp)[0]\n",
    "\n",
    "\n",
    "m = np.mat(r_matrix*r2.as_matrix())\n",
    "mat = R.from_matrix(m)\n",
    "\n",
    "\n",
    "print(\"--\")\n",
    "print(mat.as_quat())\n",
    "print(m)\n",
    "\n",
    "#cam_rot = eulerAnglesToRotationMatrix(camera_rotation)\n",
    "\n",
    "\n",
    "\n",
    "total_rotation = R_exp\n",
    "\n",
    "ZYX, jac = cv2.Rodrigues(total_rotation)\n",
    "\n",
    "totalrotmax=np.array([[ZYX[0,0],ZYX[0,1],ZYX[0,2],tVec[0]],\n",
    "[ZYX[1,0],ZYX[1,1],ZYX[1,2],tVec[1]],\n",
    "[ZYX[2,0],ZYX[2,1],ZYX[2,2],tVec[2]],\n",
    "[0,0,0,1]])\n",
    "\n",
    "\n",
    "WtoC = np.mat(totalrotmax)\n",
    "inverserotmax = np.linalg.inv(totalrotmax)"
   ]
  },
  {
   "cell_type": "code",
   "execution_count": null,
   "metadata": {},
   "outputs": [],
   "source": []
  },
  {
   "cell_type": "code",
   "execution_count": null,
   "metadata": {},
   "outputs": [],
   "source": [
    "np.matmul(r_matrix,r2.as_matrix())"
   ]
  },
  {
   "cell_type": "code",
   "execution_count": null,
   "metadata": {},
   "outputs": [],
   "source": [
    "for i in q.as_euler('zxy'):\n",
    "    print(i*180/math.pi)\n",
    "#print(cam_rotation)"
   ]
  },
  {
   "cell_type": "code",
   "execution_count": null,
   "metadata": {},
   "outputs": [],
   "source": [
    "inverserotmax\n",
    "\n",
    "for line in inverserotmax:\n",
    "    print ('  '.join(map(str, line)))"
   ]
  },
  {
   "cell_type": "code",
   "execution_count": null,
   "metadata": {},
   "outputs": [],
   "source": [
    "print(cv2.Rodrigues(inverserotmax[0:3,0:3])[0])\n"
   ]
  },
  {
   "cell_type": "markdown",
   "metadata": {},
   "source": [
    "#Kommet hit"
   ]
  },
  {
   "cell_type": "code",
   "execution_count": null,
   "metadata": {},
   "outputs": [],
   "source": [
    "#Bruker ikke\n",
    "points_3D_2 = np.array([\n",
    "\n",
    "\t\t(-3.4, 16.7, 82.3), #fbl\n",
    "        (-3.4, 16.7, 79.3), #fbr\n",
    "        (-6.4, 16.7, 82.3),  #ftl\n",
    "        (-6.4, 16.7, 79.3), #ftr\n",
    "        (-3.4, 25.8, 82.3), #bbl\n",
    "        (-3.4, 25.8, 79.3), #bbr\n",
    "        (-6.4, 25.8, 82.3), #btl\n",
    "        (-6.4 , 25.8, 79.3), #btr\n",
    "        (-4.9,21.3,80.8) #Center \n",
    "                     ])"
   ]
  },
  {
   "cell_type": "code",
   "execution_count": null,
   "metadata": {},
   "outputs": [],
   "source": [
    "#rotation = data.pnp(points_3D ,preds, points_3D)"
   ]
  },
  {
   "cell_type": "code",
   "execution_count": null,
   "metadata": {},
   "outputs": [],
   "source": [
    "#matrix = np.array([[572.4114, 0., 325.2611], [0., 573.57043, 242.04899], [0., 0., 1.]])\n"
   ]
  },
  {
   "cell_type": "code",
   "execution_count": null,
   "metadata": {},
   "outputs": [],
   "source": [
    "# Calculates Rotation Matrix given euler angles.\n",
    "def eulerAnglesToRotationMatrix(theta) :\n",
    "\n",
    "    R_x = np.array([[1,         0,                  0                   ],\n",
    "                    [0,         math.cos(theta[0]), -math.sin(theta[0]) ],\n",
    "                    [0,         math.sin(theta[0]), math.cos(theta[0])  ]\n",
    "                    ])\n",
    "\n",
    "    R_y = np.array([[math.cos(theta[1]),    0,      math.sin(theta[1])  ],\n",
    "                    [0,                     1,      0                   ],\n",
    "                    [-math.sin(theta[1]),   0,      math.cos(theta[1])  ]\n",
    "                    ])\n",
    "\n",
    "    R_z = np.array([[math.cos(theta[2]),    -math.sin(theta[2]),    0],\n",
    "                    [math.sin(theta[2]),    math.cos(theta[2]),     0],\n",
    "                    [0,                     0,                      1]\n",
    "                    ])\n",
    "\n",
    "    R = np.dot(R_z, np.dot( R_y, R_x ))\n",
    "\n",
    "    return R\n",
    "\n"
   ]
  },
  {
   "cell_type": "code",
   "execution_count": null,
   "metadata": {},
   "outputs": [],
   "source": [
    "rot_matrix = rodrigues[0]\n",
    "#cam_cord = np.append(tVec,1)\n",
    "cam_cord = np.array([[np.squeeze(tVec[0])],[np.squeeze(tVec[1])],[np.squeeze(tVec[2])],[1]])\n",
    "\n",
    "transform = np.array([[np.squeeze(tVec[0])],[np.squeeze(tVec[1])],[np.squeeze(tVec[2])]])\n",
    "full_matrix = np.append(rot_matrix, transform, axis=1)\n",
    "row = np.array([0,0,0,1])\n",
    "final_matrix = np.vstack([full_matrix,row])"
   ]
  },
  {
   "cell_type": "code",
   "execution_count": null,
   "metadata": {},
   "outputs": [],
   "source": [
    "np.matrix(final_matrix)*np.matrix([[0],[0],[-3],[1]])"
   ]
  },
  {
   "cell_type": "code",
   "execution_count": null,
   "metadata": {},
   "outputs": [],
   "source": [
    "np.matrix([0,0,-3])"
   ]
  },
  {
   "cell_type": "code",
   "execution_count": null,
   "metadata": {},
   "outputs": [],
   "source": [
    "matrix\n",
    "final_matrix\n",
    "one = np.array([[1,0,0,0],[0,1,0,0],[0,0,1,0]])\n",
    "remp = np.matmul(matrix,one)\n",
    "remp2 = np.matmul(remp,final_matrix)\n",
    "uv = np.array([[0],[0],[1]])"
   ]
  },
  {
   "cell_type": "code",
   "execution_count": null,
   "metadata": {},
   "outputs": [],
   "source": [
    "world_pos = np.array([-3.4, 16.7, 82.3])\n",
    "test = np.matmul(rot_matrix,world_pos)\n",
    "tVec"
   ]
  },
  {
   "cell_type": "code",
   "execution_count": null,
   "metadata": {},
   "outputs": [],
   "source": [
    "np.squeeze(tVec) + test"
   ]
  },
  {
   "cell_type": "code",
   "execution_count": null,
   "metadata": {},
   "outputs": [],
   "source": [
    "np.linalg.inv(rot_matrix)\n",
    "uvPoint = np.array([300,300,1])"
   ]
  },
  {
   "cell_type": "code",
   "execution_count": null,
   "metadata": {},
   "outputs": [],
   "source": [
    "tempMat = np.linalg.inv(rot_matrix)*np.linalg.inv(matrix)*uvPoint\n",
    "tempMat2 = np.linalg.inv(rot_matrix)*tVec"
   ]
  },
  {
   "cell_type": "code",
   "execution_count": null,
   "metadata": {},
   "outputs": [],
   "source": [
    "zConst = 0"
   ]
  },
  {
   "cell_type": "code",
   "execution_count": null,
   "metadata": {},
   "outputs": [],
   "source": [
    "s = zConst + tempMat2[0,2]\n",
    "s /= tempMat[0,2]"
   ]
  },
  {
   "cell_type": "code",
   "execution_count": null,
   "metadata": {},
   "outputs": [],
   "source": [
    "wcPoint = np.linalg.inv(rot_matrix) *(s * np.linalg.inv(matrix) * uvPoint - np.squeeze(tVec))"
   ]
  },
  {
   "cell_type": "code",
   "execution_count": null,
   "metadata": {},
   "outputs": [],
   "source": [
    "plotPoints, jacobian = cv2.projectPoints(np.array([(0.0,10.0,0.0)]), R_exp, tVec, matrix, np.zeros(shape=[8, 1], dtype='float64'))\n"
   ]
  },
  {
   "cell_type": "code",
   "execution_count": null,
   "metadata": {},
   "outputs": [],
   "source": [
    "print(plotPoints)\n",
    "preds[0]"
   ]
  },
  {
   "cell_type": "code",
   "execution_count": null,
   "metadata": {},
   "outputs": [],
   "source": [
    "\n",
    "point1 = (int(preds[0][0]), 600-int(preds[0][1]))\n",
    " \n",
    "point2 = (int(plotPoints[0][0][0]), 600-int(plotPoints[0][0][1]))\n",
    " "
   ]
  },
  {
   "cell_type": "code",
   "execution_count": null,
   "metadata": {},
   "outputs": [],
   "source": [
    "for p in preds:\n",
    "  cv2.circle(tmp[0][0], (int(p[0]), 600-int(p[1])), 3, (255,255,255), -1)\n",
    "plt.imshow(tmp[0][0])"
   ]
  },
  {
   "cell_type": "code",
   "execution_count": null,
   "metadata": {},
   "outputs": [],
   "source": [
    "cv2.line(tmp[0][0], point1, point2, (0,0,0), 2)\n",
    "plt.imshow(tmp[0][0])"
   ]
  },
  {
   "cell_type": "markdown",
   "metadata": {},
   "source": []
  }
 ],
 "metadata": {
  "interpreter": {
   "hash": "eb391d1b37b21da72a297660553a385291376930b063b4c13e326f0761228690"
  },
  "kernelspec": {
   "display_name": "Python 3.8.5 ('master')",
   "language": "python",
   "name": "python3"
  },
  "language_info": {
   "codemirror_mode": {
    "name": "ipython",
    "version": 3
   },
   "file_extension": ".py",
   "mimetype": "text/x-python",
   "name": "python",
   "nbconvert_exporter": "python",
   "pygments_lexer": "ipython3",
   "version": "3.8.5"
  },
  "orig_nbformat": 4
 },
 "nbformat": 4,
 "nbformat_minor": 2
}
