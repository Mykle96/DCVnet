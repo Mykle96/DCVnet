{
 "cells": [
  {
   "cell_type": "code",
   "execution_count": 1,
   "metadata": {},
   "outputs": [],
   "source": [
    "from PIL import Image\n",
    "import numpy as np\n",
    "import matplotlib.pyplot as plt\n",
    "import cv2\n",
    "import data \n",
    "import pose\n",
    "import models\n",
    "import math"
   ]
  },
  {
   "cell_type": "code",
   "execution_count": 48,
   "metadata": {},
   "outputs": [
    {
     "data": {
      "text/plain": [
       "270.0"
      ]
     },
     "execution_count": 48,
     "metadata": {},
     "output_type": "execute_result"
    }
   ],
   "source": [
    "cx =250\n",
    "cy = 250\n",
    "\n",
    "x = 100\n",
    "y = 250\n",
    "\n",
    "# (1) math.atan((cy-y)/(cx-x))*180/math.pi\n",
    "# (2) (math.atan((cy-y)/(cx-x))+math.pi)*180/math.pi\n",
    "# (3) (math.atan((cy-y)/(cx-x))+math.pi)*180/math.pi\n",
    "# (4) (math.atan((cy-y)/(cx-x))+2*math.pi)*180/math.pi\n"
   ]
  },
  {
   "cell_type": "code",
   "execution_count": null,
   "metadata": {},
   "outputs": [],
   "source": [
    "gen = data.coordsTrainingGenerator(2)"
   ]
  },
  {
   "cell_type": "code",
   "execution_count": null,
   "metadata": {},
   "outputs": [],
   "source": [
    "dataset = next(gen)\n",
    "#0 er image, 1 er vectorfield"
   ]
  },
  {
   "cell_type": "code",
   "execution_count": null,
   "metadata": {},
   "outputs": [],
   "source": [
    "import colorsys\n",
    "\n",
    "newImg = np.zeros((600, 600, 3))\n",
    "\n",
    "im = Image.new(\"RGB\", (300,300))\n",
    "radius = min(im.size)/2.0\n",
    "\n",
    "#Center x, center y \n",
    "cx, cy = im.size[0]/2, im.size[1]/2\n",
    "pix = im.load()\n",
    "print(pix)\n",
    "\n",
    "for x in range(im.width):\n",
    "    for y in range(im.height):\n",
    "        rx = x - cx\n",
    "        ry = y - cy\n",
    "        s = (rx ** 2.0 + ry ** 2.0) ** 0.5 / radius\n",
    "        if (s <= 1.0 and s>= 0.7):\n",
    "            h = ((math.atan2(ry, rx) / math.pi) + 1.0) / 2.0\n",
    "            rgb = colorsys.hsv_to_rgb(h, s, 1.0)\n",
    "            pix[x,y] = tuple([int(round(c*255.0)) for c in rgb])\n",
    "        else:\n",
    "            h = ((math.atan2(ry, rx) / math.pi) + 1.0) / 2.0\n",
    "            rgb = colorsys.hsv_to_rgb(h, s, 1.0)\n",
    "            pix[x,y] = tuple([int(round(255)) for c in rgb])\n",
    "\n",
    "im.show()"
   ]
  },
  {
   "cell_type": "code",
   "execution_count": null,
   "metadata": {},
   "outputs": [],
   "source": [
    "#vf = data[1][0]\n",
    "#print(vf[208][278])\n",
    "#print(vf[208][278][-2:])\n",
    "labelsDict = data.getLabels('../../unity/My project/dataset/train/0.txt')\n",
    "labelsArray = data.getLabelsArray(labelsDict['screenCornerCoordinates'])"
   ]
  },
  {
   "cell_type": "code",
   "execution_count": null,
   "metadata": {},
   "outputs": [],
   "source": [
    "labelsArray[-1][1]*600"
   ]
  },
  {
   "cell_type": "code",
   "execution_count": null,
   "metadata": {},
   "outputs": [],
   "source": [
    "import colorsys\n",
    "newImg = np.zeros((600, 600, 3))\n",
    "vf = dataset[1][0]\n",
    "numCords = 9\n",
    "tmp = 0\n",
    "\n",
    "radius = 300\n",
    "\n",
    "for i in range(vf.shape[0]):\n",
    "    for j in range(vf.shape[1]):\n",
    "            if(vf[i][j] != np.zeros(2*numCords)).all():\n",
    "                #Tester for centerpunktet av figuren \n",
    "                #Unit vector til center av container:\n",
    "                vf[i][j][-2:] \n",
    "                y = i\n",
    "                x = j\n",
    "                \n",
    "                cx= int(round(labelsArray[-1][0]*600))\n",
    "                cy = int(round(labelsArray[-1][1]*600))\n",
    "\n",
    "                #rx = x - cx\n",
    "                #ry = y - cy\n",
    "                \n",
    "                #s = (rx ** 2.0 +ry ** 2.0) ** 0.5/radius\n",
    "                s = 1\n",
    "                \n",
    "                #h = ((math.atan2(y, x) / math.pi) + 1.0) / 2.0\n",
    "                \n",
    "                if(cx-x)<0:\n",
    "                    #(2) og (3)\n",
    "                    angle = math.atan((cy-y)/(cx-x))+math.pi\n",
    "                elif(cy-y)<0:\n",
    "                    #(4)\n",
    "                    if(cx == x):\n",
    "                        #270 grader\n",
    "                        angle = 3/2*math.pi\n",
    "                    else:\n",
    "                        angle = math.atan((cy-y)/(cx-x))+2*math.pi\n",
    "                else:\n",
    "                    #(1)\n",
    "                    if(cx ==x):\n",
    "                        angle = math.pi/2\n",
    "                    else:\n",
    "                        angle = math.atan((cy-y)/(cx-x))\n",
    "                \n",
    "                h = angle/(2*math.pi)\n",
    "\n",
    "                #print(h)\n",
    "                rgb = colorsys.hsv_to_rgb(h, s, 1.0)\n",
    "                #newImg[i][j] = np.array([int(round(c*255.0)) for c in rgb], dtype=int)\n",
    "                newImg[i][j] = rgb\n",
    "                #print(type(newImg[i][j][0]))\n",
    "                #print(f\"angle: {angle}, h: {h}, x: {x}, y: {y}\")\n",
    "                tmp += 1\n",
    "\n",
    "plt.imshow(newImg)    \n",
    "#plt.imshow(dataset[0][0])"
   ]
  },
  {
   "cell_type": "code",
   "execution_count": null,
   "metadata": {},
   "outputs": [],
   "source": [
    "data[0].shape\n",
    "\n",
    "s = (x ** 2.0 + y ** 2.0) ** 0.5 \n",
    "h = ((math.atan2(y, x) / math.pi) + 1.0) / 2.0"
   ]
  },
  {
   "cell_type": "markdown",
   "metadata": {},
   "source": []
  },
  {
   "cell_type": "code",
   "execution_count": null,
   "metadata": {},
   "outputs": [],
   "source": [
    "test = data.getLabels(\"../../unity/My project/dataset/train/1.txt\")"
   ]
  },
  {
   "cell_type": "code",
   "execution_count": null,
   "metadata": {},
   "outputs": [],
   "source": [
    "test[\"screenCornerCoordinates\"]"
   ]
  },
  {
   "cell_type": "code",
   "execution_count": null,
   "metadata": {},
   "outputs": [],
   "source": [
    "test2 = data.getLabelsArray(test[\"screenCornerCoordinates\"])"
   ]
  },
  {
   "cell_type": "code",
   "execution_count": null,
   "metadata": {},
   "outputs": [],
   "source": [
    "test2"
   ]
  },
  {
   "cell_type": "code",
   "execution_count": null,
   "metadata": {},
   "outputs": [],
   "source": [
    "np.zeros((len(test[\"screenCornerCoordinates\"].keys()), 2))"
   ]
  },
  {
   "cell_type": "code",
   "execution_count": null,
   "metadata": {},
   "outputs": [],
   "source": [
    "tmpCord = np.zeros((len(test[\"screenCornerCoordinates\"].keys()), 2))\n",
    "valuesList = list(test[\"screenCornerCoordinates\"].values())\n",
    "print(valuesList)\n",
    "for i in range(len(valuesList)):\n",
    "    tmpCord[i] = np.array([valuesList[i][\"x\"], valuesList[i]['y']])"
   ]
  },
  {
   "cell_type": "code",
   "execution_count": null,
   "metadata": {},
   "outputs": [],
   "source": [
    "for key, hyps in test[\"screenCornerCoordinates\"].items():\n",
    "    print(hyps[\"x\"])\n",
    "    #print(data.dictToArray(hyps))"
   ]
  },
  {
   "cell_type": "code",
   "execution_count": null,
   "metadata": {},
   "outputs": [],
   "source": [
    "arr = data.dictToArray(test[\"screenCornerCoordinates\"])"
   ]
  },
  {
   "cell_type": "code",
   "execution_count": null,
   "metadata": {},
   "outputs": [],
   "source": [
    "points_3D = np.array([\n",
    "\n",
    "\t\t(0, 0, 0), #fbl\n",
    "        (0, 0, -3), #fbr\n",
    "        (0, 3, 0),  #ftl\n",
    "        (0, 3, -3), #ftr\n",
    "        (9, 0, 0), #bbl\n",
    "        (9, 0, -3), #bbr\n",
    "        (9, 3, 0), #btl\n",
    "        (9 , 3, -3), #btr\n",
    "        (4.5,1.5,-1.5) #Center \n",
    "                     ])"
   ]
  },
  {
   "cell_type": "code",
   "execution_count": null,
   "metadata": {},
   "outputs": [],
   "source": [
    "dataset = data.coordsTrainingGenerator(2)\n",
    "tmp = next(dataset)"
   ]
  },
  {
   "cell_type": "code",
   "execution_count": null,
   "metadata": {},
   "outputs": [],
   "source": [
    "tmp = next(dataset)"
   ]
  },
  {
   "cell_type": "code",
   "execution_count": null,
   "metadata": {},
   "outputs": [],
   "source": [
    "img_num = 6\n",
    "basePath = '../../unity/My project/dataset/train/'\n",
    "mask = data.filePathToArray(basePath +str(img_num) + '_id.png', 600, 600)\n",
    "for k in range(mask.shape[0]):\n",
    "\t\t\t\tfor j in range(mask.shape[1]):\n",
    "\n",
    "\t\t\t\t\tif (mask[k][j]==np.array([0,0,0])).all():\n",
    "\t\t\t\t\t\tcontinue\n",
    "\t\t\t\t\telse:\n",
    "\t\t\t\t\t\tmask[k][j] = np.array([255,255,255])\n"
   ]
  },
  {
   "cell_type": "code",
   "execution_count": null,
   "metadata": {},
   "outputs": [],
   "source": [
    "plt.imshow(tmp[0][0])\n",
    "plt.imshow(mask)"
   ]
  },
  {
   "cell_type": "code",
   "execution_count": null,
   "metadata": {},
   "outputs": [],
   "source": [
    "#tmp er bilde og vektorfelt \n",
    "import random\n",
    "population = np.where(mask > 0.99)[:2]\n",
    "population = list(zip(population[0], population[1])) # y, x format\n",
    "p1 = population.pop(random.randrange(len(population)))\n",
    "print(\"før\")\n",
    "votes = data.ransacVoting(population,tmp[1][0])\n",
    "print(\"etter\")\n",
    "mean = data.getMean(votes)\n",
    "preds = data.dictToArray(mean)\n",
    "\n",
    "matrix = np.array([[833.3333333, 0., 300], [0., 1250, 300], [0., 0., 1.]])\n",
    "method = cv2.SOLVEPNP_ITERATIVE\n",
    "\n",
    "_, R_exp, tVec = cv2.solvePnP(points_3D,\n",
    "\t\t\t\t\t\t\t\tpreds,\n",
    "\t\t\t\t\t\t\t\tmatrix,\n",
    "\t\t\t\t\t\t\t\tnp.zeros(shape=[8, 1], dtype='float64'),\n",
    "\t\t\t\t\t\t\t\tflags=method)\n",
    "\n",
    "R_exp = np.squeeze(R_exp)\n",
    "tVec = np.squeeze(tVec)"
   ]
  },
  {
   "cell_type": "code",
   "execution_count": null,
   "metadata": {},
   "outputs": [],
   "source": [
    "#Er dette kamerakoordinater eller koordinatsystemet definert ved punktene points_3D? \n",
    "#Må jo være kamerakoordinater? \n",
    "print(f'Image number: {img_num}')\n",
    "print(f'Rotation vector: {R_exp}')\n",
    "print(f'Translation vector: {tVec}')"
   ]
  },
  {
   "cell_type": "code",
   "execution_count": null,
   "metadata": {},
   "outputs": [],
   "source": [
    "from scipy.spatial.transform import Rotation as R"
   ]
  },
  {
   "cell_type": "code",
   "execution_count": null,
   "metadata": {},
   "outputs": [],
   "source": [
    "camera_rotation = np.array([0.1868, 0.2304, -0.02209562, 0.954718])\n",
    "r2 = R.from_quat(camera_rotation)\n",
    "\n",
    "#radianer\n",
    "r_matrix = cv2.Rodrigues(R_exp)[0]\n",
    "\n",
    "\n",
    "m = np.mat(r_matrix*r2.as_matrix())\n",
    "mat = R.from_matrix(m)\n",
    "\n",
    "\n",
    "print(\"--\")\n",
    "print(mat.as_quat())\n",
    "print(m)\n",
    "\n",
    "#cam_rot = eulerAnglesToRotationMatrix(camera_rotation)\n",
    "\n",
    "\n",
    "\n",
    "total_rotation = R_exp\n",
    "\n",
    "ZYX, jac = cv2.Rodrigues(total_rotation)\n",
    "\n",
    "totalrotmax=np.array([[ZYX[0,0],ZYX[0,1],ZYX[0,2],tVec[0]],\n",
    "[ZYX[1,0],ZYX[1,1],ZYX[1,2],tVec[1]],\n",
    "[ZYX[2,0],ZYX[2,1],ZYX[2,2],tVec[2]],\n",
    "[0,0,0,1]])\n",
    "\n",
    "\n",
    "WtoC = np.mat(totalrotmax)\n",
    "inverserotmax = np.linalg.inv(totalrotmax)"
   ]
  },
  {
   "cell_type": "code",
   "execution_count": null,
   "metadata": {},
   "outputs": [],
   "source": []
  },
  {
   "cell_type": "code",
   "execution_count": null,
   "metadata": {},
   "outputs": [],
   "source": [
    "np.matmul(r_matrix,r2.as_matrix())"
   ]
  },
  {
   "cell_type": "code",
   "execution_count": null,
   "metadata": {},
   "outputs": [],
   "source": [
    "for i in q.as_euler('zxy'):\n",
    "    print(i*180/math.pi)\n",
    "#print(cam_rotation)"
   ]
  },
  {
   "cell_type": "code",
   "execution_count": null,
   "metadata": {},
   "outputs": [],
   "source": [
    "inverserotmax\n",
    "\n",
    "for line in inverserotmax:\n",
    "    print ('  '.join(map(str, line)))"
   ]
  },
  {
   "cell_type": "code",
   "execution_count": null,
   "metadata": {},
   "outputs": [],
   "source": [
    "print(cv2.Rodrigues(inverserotmax[0:3,0:3])[0])\n"
   ]
  },
  {
   "cell_type": "markdown",
   "metadata": {},
   "source": [
    "#Kommet hit"
   ]
  },
  {
   "cell_type": "code",
   "execution_count": null,
   "metadata": {},
   "outputs": [],
   "source": [
    "#Bruker ikke\n",
    "points_3D_2 = np.array([\n",
    "\n",
    "\t\t(-3.4, 16.7, 82.3), #fbl\n",
    "        (-3.4, 16.7, 79.3), #fbr\n",
    "        (-6.4, 16.7, 82.3),  #ftl\n",
    "        (-6.4, 16.7, 79.3), #ftr\n",
    "        (-3.4, 25.8, 82.3), #bbl\n",
    "        (-3.4, 25.8, 79.3), #bbr\n",
    "        (-6.4, 25.8, 82.3), #btl\n",
    "        (-6.4 , 25.8, 79.3), #btr\n",
    "        (-4.9,21.3,80.8) #Center \n",
    "                     ])"
   ]
  },
  {
   "cell_type": "code",
   "execution_count": null,
   "metadata": {},
   "outputs": [],
   "source": [
    "#rotation = data.pnp(points_3D ,preds, points_3D)"
   ]
  },
  {
   "cell_type": "code",
   "execution_count": null,
   "metadata": {},
   "outputs": [],
   "source": [
    "#matrix = np.array([[572.4114, 0., 325.2611], [0., 573.57043, 242.04899], [0., 0., 1.]])\n"
   ]
  },
  {
   "cell_type": "code",
   "execution_count": null,
   "metadata": {},
   "outputs": [],
   "source": [
    "# Calculates Rotation Matrix given euler angles.\n",
    "def eulerAnglesToRotationMatrix(theta) :\n",
    "\n",
    "    R_x = np.array([[1,         0,                  0                   ],\n",
    "                    [0,         math.cos(theta[0]), -math.sin(theta[0]) ],\n",
    "                    [0,         math.sin(theta[0]), math.cos(theta[0])  ]\n",
    "                    ])\n",
    "\n",
    "    R_y = np.array([[math.cos(theta[1]),    0,      math.sin(theta[1])  ],\n",
    "                    [0,                     1,      0                   ],\n",
    "                    [-math.sin(theta[1]),   0,      math.cos(theta[1])  ]\n",
    "                    ])\n",
    "\n",
    "    R_z = np.array([[math.cos(theta[2]),    -math.sin(theta[2]),    0],\n",
    "                    [math.sin(theta[2]),    math.cos(theta[2]),     0],\n",
    "                    [0,                     0,                      1]\n",
    "                    ])\n",
    "\n",
    "    R = np.dot(R_z, np.dot( R_y, R_x ))\n",
    "\n",
    "    return R\n",
    "\n"
   ]
  },
  {
   "cell_type": "code",
   "execution_count": null,
   "metadata": {},
   "outputs": [],
   "source": [
    "rot_matrix = rodrigues[0]\n",
    "#cam_cord = np.append(tVec,1)\n",
    "cam_cord = np.array([[np.squeeze(tVec[0])],[np.squeeze(tVec[1])],[np.squeeze(tVec[2])],[1]])\n",
    "\n",
    "transform = np.array([[np.squeeze(tVec[0])],[np.squeeze(tVec[1])],[np.squeeze(tVec[2])]])\n",
    "full_matrix = np.append(rot_matrix, transform, axis=1)\n",
    "row = np.array([0,0,0,1])\n",
    "final_matrix = np.vstack([full_matrix,row])"
   ]
  },
  {
   "cell_type": "code",
   "execution_count": null,
   "metadata": {},
   "outputs": [],
   "source": [
    "np.matrix(final_matrix)*np.matrix([[0],[0],[-3],[1]])"
   ]
  },
  {
   "cell_type": "code",
   "execution_count": null,
   "metadata": {},
   "outputs": [],
   "source": [
    "np.matrix([0,0,-3])"
   ]
  },
  {
   "cell_type": "code",
   "execution_count": null,
   "metadata": {},
   "outputs": [],
   "source": [
    "matrix\n",
    "final_matrix\n",
    "one = np.array([[1,0,0,0],[0,1,0,0],[0,0,1,0]])\n",
    "remp = np.matmul(matrix,one)\n",
    "remp2 = np.matmul(remp,final_matrix)\n",
    "uv = np.array([[0],[0],[1]])"
   ]
  },
  {
   "cell_type": "code",
   "execution_count": null,
   "metadata": {},
   "outputs": [],
   "source": [
    "world_pos = np.array([-3.4, 16.7, 82.3])\n",
    "test = np.matmul(rot_matrix,world_pos)\n",
    "tVec"
   ]
  },
  {
   "cell_type": "code",
   "execution_count": null,
   "metadata": {},
   "outputs": [],
   "source": [
    "np.squeeze(tVec) + test"
   ]
  },
  {
   "cell_type": "code",
   "execution_count": null,
   "metadata": {},
   "outputs": [],
   "source": [
    "np.linalg.inv(rot_matrix)\n",
    "uvPoint = np.array([300,300,1])"
   ]
  },
  {
   "cell_type": "code",
   "execution_count": null,
   "metadata": {},
   "outputs": [],
   "source": [
    "tempMat = np.linalg.inv(rot_matrix)*np.linalg.inv(matrix)*uvPoint\n",
    "tempMat2 = np.linalg.inv(rot_matrix)*tVec"
   ]
  },
  {
   "cell_type": "code",
   "execution_count": null,
   "metadata": {},
   "outputs": [],
   "source": [
    "zConst = 0"
   ]
  },
  {
   "cell_type": "code",
   "execution_count": null,
   "metadata": {},
   "outputs": [],
   "source": [
    "s = zConst + tempMat2[0,2]\n",
    "s /= tempMat[0,2]"
   ]
  },
  {
   "cell_type": "code",
   "execution_count": null,
   "metadata": {},
   "outputs": [],
   "source": [
    "wcPoint = np.linalg.inv(rot_matrix) *(s * np.linalg.inv(matrix) * uvPoint - np.squeeze(tVec))"
   ]
  },
  {
   "cell_type": "code",
   "execution_count": null,
   "metadata": {},
   "outputs": [],
   "source": [
    "plotPoints, jacobian = cv2.projectPoints(np.array([(0.0,10.0,0.0)]), R_exp, tVec, matrix, np.zeros(shape=[8, 1], dtype='float64'))\n"
   ]
  },
  {
   "cell_type": "code",
   "execution_count": null,
   "metadata": {},
   "outputs": [],
   "source": [
    "print(plotPoints)\n",
    "preds[0]"
   ]
  },
  {
   "cell_type": "code",
   "execution_count": null,
   "metadata": {},
   "outputs": [],
   "source": [
    "\n",
    "point1 = (int(preds[0][0]), 600-int(preds[0][1]))\n",
    " \n",
    "point2 = (int(plotPoints[0][0][0]), 600-int(plotPoints[0][0][1]))\n",
    " "
   ]
  },
  {
   "cell_type": "code",
   "execution_count": null,
   "metadata": {},
   "outputs": [],
   "source": [
    "for p in preds:\n",
    "  cv2.circle(tmp[0][0], (int(p[0]), 600-int(p[1])), 3, (255,255,255), -1)\n",
    "plt.imshow(tmp[0][0])"
   ]
  },
  {
   "cell_type": "code",
   "execution_count": null,
   "metadata": {},
   "outputs": [],
   "source": [
    "cv2.line(tmp[0][0], point1, point2, (0,0,0), 2)\n",
    "plt.imshow(tmp[0][0])"
   ]
  },
  {
   "cell_type": "markdown",
   "metadata": {},
   "source": []
  }
 ],
 "metadata": {
  "interpreter": {
   "hash": "eb391d1b37b21da72a297660553a385291376930b063b4c13e326f0761228690"
  },
  "kernelspec": {
   "display_name": "Python 3.8.5 ('master')",
   "language": "python",
   "name": "python3"
  },
  "language_info": {
   "codemirror_mode": {
    "name": "ipython",
    "version": 3
   },
   "file_extension": ".py",
   "mimetype": "text/x-python",
   "name": "python",
   "nbconvert_exporter": "python",
   "pygments_lexer": "ipython3",
   "version": "3.8.5"
  },
  "orig_nbformat": 4
 },
 "nbformat": 4,
 "nbformat_minor": 2
}
